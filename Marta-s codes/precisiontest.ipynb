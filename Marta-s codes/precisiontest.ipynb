{
 "cells": [
  {
   "cell_type": "code",
   "execution_count": 1,
   "metadata": {},
   "outputs": [
    {
     "name": "stdout",
     "output_type": "stream",
     "text": [
      "2986\n",
      "2986\n",
      "789\n",
      "789\n",
      "789\n",
      "789\n",
      "0.07074419054223217\n",
      "0.00025106784688042224\n",
      "0.00021391079432788593\n",
      "0.0003204303071334972\n",
      "0.00011694094942765205\n",
      "0.0003318070620261219\n",
      "0.00020796490635373928\n",
      "0.0002882569148988786\n",
      "0.00038186282288522975\n",
      "0.0006813710111786576\n",
      "0.00019980380135994113\n",
      "[5, 3, 1, 8, 16, 18, 25, 34, 2403, 10]\n",
      "[0.000328942451005787, 0.00016403955459054487, 0.00018288663869725497, 9.495253380009672e-06, -5.470819127140203e-05, 1.6322026283432933e-05, 0.00022133523322054316, -1.8806487162237318e-05, -0.00044489144175940964, 0.00014160808831320537]\n",
      "[6.243610769729457e-06, -0.00017353177641865614, -0.00028847566630219035, -0.00011671691267878259, -0.00032917175126812026, -0.00020759179094653746, -0.0002337034872752497, -0.000381593907853528, 0.0005910587647051102, -0.00016811935393690192]\n"
     ]
    },
    {
     "data": {
      "text/plain": [
       "<Figure size 640x480 with 1 Axes>"
      ]
     },
     "metadata": {},
     "output_type": "display_data"
    }
   ],
   "source": [
    "import sys\n",
    "import math as m\n",
    "import numpy as np\n",
    "from astropy.io import fits\n",
    "from astropy.table import Table\n",
    "from astropy.wcs import WCS\n",
    "from astropy import units as u\n",
    "from astropy.coordinates import SkyCoord\n",
    "import matplotlib.pyplot as plt\n",
    "#Import GAIA data as lists of RA and DEC\n",
    "\n",
    "txt = open(\"GAIAdata.csv\")\n",
    "\n",
    "counter = 0\n",
    "gaia_ra = []\n",
    "gaia_dec = []\n",
    "for line in txt :\n",
    "    elements = line.split(\";\")\n",
    "    if counter != 0 :\n",
    "        ra = elements[1]\n",
    "        ra = float(ra)\n",
    "        gaia_ra.append(ra)\n",
    "        dec = elements[3]\n",
    "        dec = float(dec)\n",
    "        gaia_dec.append(dec)\n",
    "    counter =+ 1 \n",
    "    \n",
    "print (len(gaia_ra))\n",
    "print (len(gaia_dec))\n",
    "\n",
    "#Import x,y pixel positions of detected sources\n",
    "\n",
    "file = fits.open(\"Aaxy.fits\")\n",
    "data = file[1].data\n",
    " \n",
    "x_list = []\n",
    "y_list = []\n",
    "for line in data:\n",
    "    valuex = line[0]\n",
    "    valuex = float(valuex)\n",
    "    valuey = line[1]\n",
    "    valuey = float(valuey)\n",
    "    x_list.append(valuex)\n",
    "    y_list.append(valuey)\n",
    "    \n",
    "print (len(x_list))\n",
    "print (len(y_list))\n",
    "\n",
    "#Convert pixel coordinates to world coordinates\n",
    "\n",
    "x_world = []\n",
    "y_world = []\n",
    "w = WCS(\"Anew-image.fits\")\n",
    "for a in range(len(x_list)):\n",
    "    x = x_list[a]\n",
    "    y = y_list[a]\n",
    "    lon, lat = w.all_pix2world(x, y, 0) #0 or 1 here? IMPORTANT!\n",
    "    lon = float(lon)\n",
    "    lat = float(lat)\n",
    "    x_world.append(lon)\n",
    "    y_world.append(lat)\n",
    "    \n",
    "print (len(x_world))\n",
    "print (len(y_world))\n",
    "    \n",
    "#Great Circle Distance - separation function from Astropy - TEST \n",
    "\n",
    "c1 = SkyCoord(gaia_ra[0], gaia_dec[0], frame='icrs', unit = 'deg')\n",
    "c2 = SkyCoord(x_world[0], y_world[0], frame='icrs', unit = 'deg')\n",
    "sep = c1.separation(c2)\n",
    "print (sep.deg)\n",
    "\n",
    "#A loop that selects the counterpart based on the smallest distance and calculates errors \n",
    "#in DEC and RA\n",
    "results  = []\n",
    "raerror = []\n",
    "decerror = []\n",
    "for a in range(10):\n",
    "    xsource = x_world[a]\n",
    "    ysource = y_world[a]\n",
    "    temp = []\n",
    "    for b in range(len(gaia_ra)):\n",
    "        xgaia = gaia_ra[b]\n",
    "        ygaia = gaia_dec[b]\n",
    "        c1 = SkyCoord(xgaia, ygaia, frame='icrs', unit = 'deg')\n",
    "        c2 = SkyCoord(xsource, ysource, frame='icrs', unit = 'deg')\n",
    "        sep = c1.separation(c2)\n",
    "        sep = sep.deg\n",
    "        temp.append(sep)\n",
    "    match = min(temp)\n",
    "    print (match)\n",
    "    index_number = temp.index(match)\n",
    "    results.append(index_number)\n",
    "    ra_err = gaia_ra[index_number] - x_world[a]\n",
    "    dec_err = gaia_dec[index_number] - y_world[a]\n",
    "    raerror.append(ra_err)\n",
    "    decerror.append(dec_err)\n",
    "\n",
    "print (results)\n",
    "print (raerror)\n",
    "print (decerror)\n",
    "\n",
    "plt.plot(raerror, decerror, 'ro')\n",
    "plt.axis([ -0.001, 0.001, -0.001, 0.001])\n",
    "plt.ylabel(\"Error in Dec (degrees)\")\n",
    "plt.xlabel(\"Error in RA (degrees)\")\n",
    "plt.show()"
   ]
  },
  {
   "cell_type": "code",
   "execution_count": 9,
   "metadata": {},
   "outputs": [
    {
     "data": {
      "image/png": "[encoded data removed]",
      "text/plain": [
       "<Figure size 432x288 with 1 Axes>"
      ]
     },
     "metadata": {},
     "output_type": "display_data"
    }
   ],
   "source": [
    "plt.plot(raerror, decerror, 'ro')\n",
    "plt.axis([ -0.001, 0.001, -0.001, 0.001])\n",
    "plt.xlabel(\"Error in Dec (degrees)\")\n",
    "plt.ylabel(\"Error in RA(degrees)\")\n",
    "plt.show()"
   ]
  },
  {
   "cell_type": "code",
   "execution_count": null,
   "metadata": {},
   "outputs": [],
   "source": []
  },
  {
   "cell_type": "code",
   "execution_count": null,
   "metadata": {},
   "outputs": [],
   "source": []
  }
 ],
 "metadata": {
  "kernelspec": {
   "display_name": "Python 3",
   "language": "python",
   "name": "python3"
  },
  "language_info": {
   "codemirror_mode": {
    "name": "ipython",
    "version": 3
   },
   "file_extension": ".py",
   "mimetype": "text/x-python",
   "name": "python",
   "nbconvert_exporter": "python",
   "pygments_lexer": "ipython3",
   "version": "3.6.5"
  }
 },
 "nbformat": 4,
 "nbformat_minor": 2
}
